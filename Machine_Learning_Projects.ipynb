{
  "cells": [
    {
      "cell_type": "markdown",
      "id": "6b-HxYRex2gE",
      "metadata": {
        "id": "6b-HxYRex2gE"
      },
      "source": [
        "online payments fraud detection"
      ]
    },
    {
      "cell_type": "markdown",
      "id": "6217dee9",
      "metadata": {
        "id": "6217dee9"
      },
      "source": [
        "# Importing Libraries"
      ]
    },
    {
      "cell_type": "code",
      "execution_count": 1,
      "id": "525e852e",
      "metadata": {
        "id": "525e852e"
      },
      "outputs": [],
      "source": [
        "# Basic Libraries\n",
        "import numpy as np\n",
        "import pandas as pd\n",
        "import seaborn as sns\n",
        "import matplotlib.pyplot as plt\n",
        "\n",
        "# Models Libraries\n",
        "from sklearn.model_selection import train_test_split\n",
        "from sklearn.preprocessing import StandardScaler\n",
        "from sklearn.linear_model import LogisticRegression\n",
        "from sklearn.tree import DecisionTreeClassifier\n",
        "from sklearn.naive_bayes import GaussianNB\n",
        "\n",
        "# Evaluation Metric Libraries\n",
        "from sklearn.metrics import confusion_matrix, ConfusionMatrixDisplay, classification_report, accuracy_score, precision_score, recall_score,f1_score, roc_auc_score\n",
        "\n",
        "# Warnings\n",
        "import warnings\n",
        "warnings.filterwarnings('ignore')"
      ]
    },
    {
      "cell_type": "markdown",
      "id": "aac058e6",
      "metadata": {
        "id": "aac058e6"
      },
      "source": [
        "# Reading and exploring the dataset"
      ]
    },
    {
      "cell_type": "code",
      "execution_count": 2,
      "id": "60aaaf1f",
      "metadata": {
        "id": "60aaaf1f"
      },
      "outputs": [],
      "source": [
        "data = pd.read_csv('onlinefrauddataset.csv')"
      ]
    },
    {
      "cell_type": "code",
      "execution_count": 3,
      "id": "0e6ee8da",
      "metadata": {
        "colab": {
          "base_uri": "https://localhost:8080/"
        },
        "id": "0e6ee8da",
        "outputId": "eb7f1b60-3d96-4e89-a250-ab6cfb8b2582"
      },
      "outputs": [
        {
          "data": {
            "text/plain": [
              "(6362620, 11)"
            ]
          },
          "execution_count": 3,
          "metadata": {},
          "output_type": "execute_result"
        }
      ],
      "source": [
        "data.shape # Dimensions (rows, columns)"
      ]
    },
    {
      "cell_type": "code",
      "execution_count": 4,
      "id": "39ba86ac",
      "metadata": {
        "colab": {
          "base_uri": "https://localhost:8080/",
          "height": 383
        },
        "id": "39ba86ac",
        "outputId": "010fa1b0-20bc-4371-8dbd-c0007fd1bb6b"
      },
      "outputs": [
        {
          "data": {
            "text/html": [
              "<div>\n",
              "<style scoped>\n",
              "    .dataframe tbody tr th:only-of-type {\n",
              "        vertical-align: middle;\n",
              "    }\n",
              "\n",
              "    .dataframe tbody tr th {\n",
              "        vertical-align: top;\n",
              "    }\n",
              "\n",
              "    .dataframe thead th {\n",
              "        text-align: right;\n",
              "    }\n",
              "</style>\n",
              "<table border=\"1\" class=\"dataframe\">\n",
              "  <thead>\n",
              "    <tr style=\"text-align: right;\">\n",
              "      <th></th>\n",
              "      <th>step</th>\n",
              "      <th>type</th>\n",
              "      <th>amount</th>\n",
              "      <th>nameOrig</th>\n",
              "      <th>oldbalanceOrg</th>\n",
              "      <th>newbalanceOrig</th>\n",
              "      <th>nameDest</th>\n",
              "      <th>oldbalanceDest</th>\n",
              "      <th>newbalanceDest</th>\n",
              "      <th>isFraud</th>\n",
              "      <th>isFlaggedFraud</th>\n",
              "    </tr>\n",
              "  </thead>\n",
              "  <tbody>\n",
              "    <tr>\n",
              "      <th>0</th>\n",
              "      <td>1</td>\n",
              "      <td>PAYMENT</td>\n",
              "      <td>9839.64</td>\n",
              "      <td>C1231006815</td>\n",
              "      <td>170136.00</td>\n",
              "      <td>160296.36</td>\n",
              "      <td>M1979787155</td>\n",
              "      <td>0.0</td>\n",
              "      <td>0.00</td>\n",
              "      <td>0</td>\n",
              "      <td>0</td>\n",
              "    </tr>\n",
              "    <tr>\n",
              "      <th>1</th>\n",
              "      <td>1</td>\n",
              "      <td>PAYMENT</td>\n",
              "      <td>1864.28</td>\n",
              "      <td>C1666544295</td>\n",
              "      <td>21249.00</td>\n",
              "      <td>19384.72</td>\n",
              "      <td>M2044282225</td>\n",
              "      <td>0.0</td>\n",
              "      <td>0.00</td>\n",
              "      <td>0</td>\n",
              "      <td>0</td>\n",
              "    </tr>\n",
              "    <tr>\n",
              "      <th>2</th>\n",
              "      <td>1</td>\n",
              "      <td>TRANSFER</td>\n",
              "      <td>181.00</td>\n",
              "      <td>C1305486145</td>\n",
              "      <td>181.00</td>\n",
              "      <td>0.00</td>\n",
              "      <td>C553264065</td>\n",
              "      <td>0.0</td>\n",
              "      <td>0.00</td>\n",
              "      <td>1</td>\n",
              "      <td>0</td>\n",
              "    </tr>\n",
              "    <tr>\n",
              "      <th>3</th>\n",
              "      <td>1</td>\n",
              "      <td>CASH_OUT</td>\n",
              "      <td>181.00</td>\n",
              "      <td>C840083671</td>\n",
              "      <td>181.00</td>\n",
              "      <td>0.00</td>\n",
              "      <td>C38997010</td>\n",
              "      <td>21182.0</td>\n",
              "      <td>0.00</td>\n",
              "      <td>1</td>\n",
              "      <td>0</td>\n",
              "    </tr>\n",
              "    <tr>\n",
              "      <th>4</th>\n",
              "      <td>1</td>\n",
              "      <td>PAYMENT</td>\n",
              "      <td>11668.14</td>\n",
              "      <td>C2048537720</td>\n",
              "      <td>41554.00</td>\n",
              "      <td>29885.86</td>\n",
              "      <td>M1230701703</td>\n",
              "      <td>0.0</td>\n",
              "      <td>0.00</td>\n",
              "      <td>0</td>\n",
              "      <td>0</td>\n",
              "    </tr>\n",
              "    <tr>\n",
              "      <th>5</th>\n",
              "      <td>1</td>\n",
              "      <td>PAYMENT</td>\n",
              "      <td>7817.71</td>\n",
              "      <td>C90045638</td>\n",
              "      <td>53860.00</td>\n",
              "      <td>46042.29</td>\n",
              "      <td>M573487274</td>\n",
              "      <td>0.0</td>\n",
              "      <td>0.00</td>\n",
              "      <td>0</td>\n",
              "      <td>0</td>\n",
              "    </tr>\n",
              "    <tr>\n",
              "      <th>6</th>\n",
              "      <td>1</td>\n",
              "      <td>PAYMENT</td>\n",
              "      <td>7107.77</td>\n",
              "      <td>C154988899</td>\n",
              "      <td>183195.00</td>\n",
              "      <td>176087.23</td>\n",
              "      <td>M408069119</td>\n",
              "      <td>0.0</td>\n",
              "      <td>0.00</td>\n",
              "      <td>0</td>\n",
              "      <td>0</td>\n",
              "    </tr>\n",
              "    <tr>\n",
              "      <th>7</th>\n",
              "      <td>1</td>\n",
              "      <td>PAYMENT</td>\n",
              "      <td>7861.64</td>\n",
              "      <td>C1912850431</td>\n",
              "      <td>176087.23</td>\n",
              "      <td>168225.59</td>\n",
              "      <td>M633326333</td>\n",
              "      <td>0.0</td>\n",
              "      <td>0.00</td>\n",
              "      <td>0</td>\n",
              "      <td>0</td>\n",
              "    </tr>\n",
              "    <tr>\n",
              "      <th>8</th>\n",
              "      <td>1</td>\n",
              "      <td>PAYMENT</td>\n",
              "      <td>4024.36</td>\n",
              "      <td>C1265012928</td>\n",
              "      <td>2671.00</td>\n",
              "      <td>0.00</td>\n",
              "      <td>M1176932104</td>\n",
              "      <td>0.0</td>\n",
              "      <td>0.00</td>\n",
              "      <td>0</td>\n",
              "      <td>0</td>\n",
              "    </tr>\n",
              "    <tr>\n",
              "      <th>9</th>\n",
              "      <td>1</td>\n",
              "      <td>DEBIT</td>\n",
              "      <td>5337.77</td>\n",
              "      <td>C712410124</td>\n",
              "      <td>41720.00</td>\n",
              "      <td>36382.23</td>\n",
              "      <td>C195600860</td>\n",
              "      <td>41898.0</td>\n",
              "      <td>40348.79</td>\n",
              "      <td>0</td>\n",
              "      <td>0</td>\n",
              "    </tr>\n",
              "  </tbody>\n",
              "</table>\n",
              "</div>"
            ],
            "text/plain": [
              "   step      type    amount     nameOrig  oldbalanceOrg  newbalanceOrig  \\\n",
              "0     1   PAYMENT   9839.64  C1231006815      170136.00       160296.36   \n",
              "1     1   PAYMENT   1864.28  C1666544295       21249.00        19384.72   \n",
              "2     1  TRANSFER    181.00  C1305486145         181.00            0.00   \n",
              "3     1  CASH_OUT    181.00   C840083671         181.00            0.00   \n",
              "4     1   PAYMENT  11668.14  C2048537720       41554.00        29885.86   \n",
              "5     1   PAYMENT   7817.71    C90045638       53860.00        46042.29   \n",
              "6     1   PAYMENT   7107.77   C154988899      183195.00       176087.23   \n",
              "7     1   PAYMENT   7861.64  C1912850431      176087.23       168225.59   \n",
              "8     1   PAYMENT   4024.36  C1265012928        2671.00            0.00   \n",
              "9     1     DEBIT   5337.77   C712410124       41720.00        36382.23   \n",
              "\n",
              "      nameDest  oldbalanceDest  newbalanceDest  isFraud  isFlaggedFraud  \n",
              "0  M1979787155             0.0            0.00        0               0  \n",
              "1  M2044282225             0.0            0.00        0               0  \n",
              "2   C553264065             0.0            0.00        1               0  \n",
              "3    C38997010         21182.0            0.00        1               0  \n",
              "4  M1230701703             0.0            0.00        0               0  \n",
              "5   M573487274             0.0            0.00        0               0  \n",
              "6   M408069119             0.0            0.00        0               0  \n",
              "7   M633326333             0.0            0.00        0               0  \n",
              "8  M1176932104             0.0            0.00        0               0  \n",
              "9   C195600860         41898.0        40348.79        0               0  "
            ]
          },
          "execution_count": 4,
          "metadata": {},
          "output_type": "execute_result"
        }
      ],
      "source": [
        "data.head(10) # first 10 rows/records"
      ]
    },
    {
      "cell_type": "code",
      "execution_count": 5,
      "id": "9a7f309d",
      "metadata": {
        "colab": {
          "base_uri": "https://localhost:8080/",
          "height": 383
        },
        "id": "9a7f309d",
        "outputId": "afd3d597-ef6e-4f6f-cfc8-f744dfd2378e"
      },
      "outputs": [
        {
          "data": {
            "text/html": [
              "<div>\n",
              "<style scoped>\n",
              "    .dataframe tbody tr th:only-of-type {\n",
              "        vertical-align: middle;\n",
              "    }\n",
              "\n",
              "    .dataframe tbody tr th {\n",
              "        vertical-align: top;\n",
              "    }\n",
              "\n",
              "    .dataframe thead th {\n",
              "        text-align: right;\n",
              "    }\n",
              "</style>\n",
              "<table border=\"1\" class=\"dataframe\">\n",
              "  <thead>\n",
              "    <tr style=\"text-align: right;\">\n",
              "      <th></th>\n",
              "      <th>step</th>\n",
              "      <th>type</th>\n",
              "      <th>amount</th>\n",
              "      <th>nameOrig</th>\n",
              "      <th>oldbalanceOrg</th>\n",
              "      <th>newbalanceOrig</th>\n",
              "      <th>nameDest</th>\n",
              "      <th>oldbalanceDest</th>\n",
              "      <th>newbalanceDest</th>\n",
              "      <th>isFraud</th>\n",
              "      <th>isFlaggedFraud</th>\n",
              "    </tr>\n",
              "  </thead>\n",
              "  <tbody>\n",
              "    <tr>\n",
              "      <th>6362610</th>\n",
              "      <td>742</td>\n",
              "      <td>TRANSFER</td>\n",
              "      <td>63416.99</td>\n",
              "      <td>C778071008</td>\n",
              "      <td>63416.99</td>\n",
              "      <td>0.0</td>\n",
              "      <td>C1812552860</td>\n",
              "      <td>0.00</td>\n",
              "      <td>0.00</td>\n",
              "      <td>1</td>\n",
              "      <td>0</td>\n",
              "    </tr>\n",
              "    <tr>\n",
              "      <th>6362611</th>\n",
              "      <td>742</td>\n",
              "      <td>CASH_OUT</td>\n",
              "      <td>63416.99</td>\n",
              "      <td>C994950684</td>\n",
              "      <td>63416.99</td>\n",
              "      <td>0.0</td>\n",
              "      <td>C1662241365</td>\n",
              "      <td>276433.18</td>\n",
              "      <td>339850.17</td>\n",
              "      <td>1</td>\n",
              "      <td>0</td>\n",
              "    </tr>\n",
              "    <tr>\n",
              "      <th>6362612</th>\n",
              "      <td>743</td>\n",
              "      <td>TRANSFER</td>\n",
              "      <td>1258818.82</td>\n",
              "      <td>C1531301470</td>\n",
              "      <td>1258818.82</td>\n",
              "      <td>0.0</td>\n",
              "      <td>C1470998563</td>\n",
              "      <td>0.00</td>\n",
              "      <td>0.00</td>\n",
              "      <td>1</td>\n",
              "      <td>0</td>\n",
              "    </tr>\n",
              "    <tr>\n",
              "      <th>6362613</th>\n",
              "      <td>743</td>\n",
              "      <td>CASH_OUT</td>\n",
              "      <td>1258818.82</td>\n",
              "      <td>C1436118706</td>\n",
              "      <td>1258818.82</td>\n",
              "      <td>0.0</td>\n",
              "      <td>C1240760502</td>\n",
              "      <td>503464.50</td>\n",
              "      <td>1762283.33</td>\n",
              "      <td>1</td>\n",
              "      <td>0</td>\n",
              "    </tr>\n",
              "    <tr>\n",
              "      <th>6362614</th>\n",
              "      <td>743</td>\n",
              "      <td>TRANSFER</td>\n",
              "      <td>339682.13</td>\n",
              "      <td>C2013999242</td>\n",
              "      <td>339682.13</td>\n",
              "      <td>0.0</td>\n",
              "      <td>C1850423904</td>\n",
              "      <td>0.00</td>\n",
              "      <td>0.00</td>\n",
              "      <td>1</td>\n",
              "      <td>0</td>\n",
              "    </tr>\n",
              "    <tr>\n",
              "      <th>6362615</th>\n",
              "      <td>743</td>\n",
              "      <td>CASH_OUT</td>\n",
              "      <td>339682.13</td>\n",
              "      <td>C786484425</td>\n",
              "      <td>339682.13</td>\n",
              "      <td>0.0</td>\n",
              "      <td>C776919290</td>\n",
              "      <td>0.00</td>\n",
              "      <td>339682.13</td>\n",
              "      <td>1</td>\n",
              "      <td>0</td>\n",
              "    </tr>\n",
              "    <tr>\n",
              "      <th>6362616</th>\n",
              "      <td>743</td>\n",
              "      <td>TRANSFER</td>\n",
              "      <td>6311409.28</td>\n",
              "      <td>C1529008245</td>\n",
              "      <td>6311409.28</td>\n",
              "      <td>0.0</td>\n",
              "      <td>C1881841831</td>\n",
              "      <td>0.00</td>\n",
              "      <td>0.00</td>\n",
              "      <td>1</td>\n",
              "      <td>0</td>\n",
              "    </tr>\n",
              "    <tr>\n",
              "      <th>6362617</th>\n",
              "      <td>743</td>\n",
              "      <td>CASH_OUT</td>\n",
              "      <td>6311409.28</td>\n",
              "      <td>C1162922333</td>\n",
              "      <td>6311409.28</td>\n",
              "      <td>0.0</td>\n",
              "      <td>C1365125890</td>\n",
              "      <td>68488.84</td>\n",
              "      <td>6379898.11</td>\n",
              "      <td>1</td>\n",
              "      <td>0</td>\n",
              "    </tr>\n",
              "    <tr>\n",
              "      <th>6362618</th>\n",
              "      <td>743</td>\n",
              "      <td>TRANSFER</td>\n",
              "      <td>850002.52</td>\n",
              "      <td>C1685995037</td>\n",
              "      <td>850002.52</td>\n",
              "      <td>0.0</td>\n",
              "      <td>C2080388513</td>\n",
              "      <td>0.00</td>\n",
              "      <td>0.00</td>\n",
              "      <td>1</td>\n",
              "      <td>0</td>\n",
              "    </tr>\n",
              "    <tr>\n",
              "      <th>6362619</th>\n",
              "      <td>743</td>\n",
              "      <td>CASH_OUT</td>\n",
              "      <td>850002.52</td>\n",
              "      <td>C1280323807</td>\n",
              "      <td>850002.52</td>\n",
              "      <td>0.0</td>\n",
              "      <td>C873221189</td>\n",
              "      <td>6510099.11</td>\n",
              "      <td>7360101.63</td>\n",
              "      <td>1</td>\n",
              "      <td>0</td>\n",
              "    </tr>\n",
              "  </tbody>\n",
              "</table>\n",
              "</div>"
            ],
            "text/plain": [
              "         step      type      amount     nameOrig  oldbalanceOrg  \\\n",
              "6362610   742  TRANSFER    63416.99   C778071008       63416.99   \n",
              "6362611   742  CASH_OUT    63416.99   C994950684       63416.99   \n",
              "6362612   743  TRANSFER  1258818.82  C1531301470     1258818.82   \n",
              "6362613   743  CASH_OUT  1258818.82  C1436118706     1258818.82   \n",
              "6362614   743  TRANSFER   339682.13  C2013999242      339682.13   \n",
              "6362615   743  CASH_OUT   339682.13   C786484425      339682.13   \n",
              "6362616   743  TRANSFER  6311409.28  C1529008245     6311409.28   \n",
              "6362617   743  CASH_OUT  6311409.28  C1162922333     6311409.28   \n",
              "6362618   743  TRANSFER   850002.52  C1685995037      850002.52   \n",
              "6362619   743  CASH_OUT   850002.52  C1280323807      850002.52   \n",
              "\n",
              "         newbalanceOrig     nameDest  oldbalanceDest  newbalanceDest  isFraud  \\\n",
              "6362610             0.0  C1812552860            0.00            0.00        1   \n",
              "6362611             0.0  C1662241365       276433.18       339850.17        1   \n",
              "6362612             0.0  C1470998563            0.00            0.00        1   \n",
              "6362613             0.0  C1240760502       503464.50      1762283.33        1   \n",
              "6362614             0.0  C1850423904            0.00            0.00        1   \n",
              "6362615             0.0   C776919290            0.00       339682.13        1   \n",
              "6362616             0.0  C1881841831            0.00            0.00        1   \n",
              "6362617             0.0  C1365125890        68488.84      6379898.11        1   \n",
              "6362618             0.0  C2080388513            0.00            0.00        1   \n",
              "6362619             0.0   C873221189      6510099.11      7360101.63        1   \n",
              "\n",
              "         isFlaggedFraud  \n",
              "6362610               0  \n",
              "6362611               0  \n",
              "6362612               0  \n",
              "6362613               0  \n",
              "6362614               0  \n",
              "6362615               0  \n",
              "6362616               0  \n",
              "6362617               0  \n",
              "6362618               0  \n",
              "6362619               0  "
            ]
          },
          "execution_count": 5,
          "metadata": {},
          "output_type": "execute_result"
        }
      ],
      "source": [
        "data.tail(10) # last 10 rows/records"
      ]
    },
    {
      "cell_type": "code",
      "execution_count": 6,
      "id": "52154159",
      "metadata": {
        "colab": {
          "base_uri": "https://localhost:8080/"
        },
        "id": "52154159",
        "outputId": "4d3509d5-ada3-406e-a8e5-21444f8b18f6"
      },
      "outputs": [
        {
          "data": {
            "text/plain": [
              "step                int64\n",
              "type               object\n",
              "amount            float64\n",
              "nameOrig           object\n",
              "oldbalanceOrg     float64\n",
              "newbalanceOrig    float64\n",
              "nameDest           object\n",
              "oldbalanceDest    float64\n",
              "newbalanceDest    float64\n",
              "isFraud             int64\n",
              "isFlaggedFraud      int64\n",
              "dtype: object"
            ]
          },
          "execution_count": 6,
          "metadata": {},
          "output_type": "execute_result"
        }
      ],
      "source": [
        "data.dtypes"
      ]
    },
    {
      "cell_type": "markdown",
      "id": "a292f4b2",
      "metadata": {
        "id": "a292f4b2"
      },
      "source": [
        "# Handling Missing Values"
      ]
    },
    {
      "cell_type": "code",
      "execution_count": 7,
      "id": "a3c2052f",
      "metadata": {
        "colab": {
          "base_uri": "https://localhost:8080/"
        },
        "id": "a3c2052f",
        "outputId": "3e3c1c17-e35c-4cbf-c89f-5a4ae50a4490"
      },
      "outputs": [
        {
          "name": "stdout",
          "output_type": "stream",
          "text": [
            "Fortunately, there aren't missing values in the dataset.\n"
          ]
        }
      ],
      "source": [
        "if data.isnull().values.any():\n",
        "    print('Unfortunately, there are missing values in the dataset\\n')\n",
        "    data.dropna(inplace=True)\n",
        "    print('Shape : ', data.shape)\n",
        "else:\n",
        "    print('Fortunately, there aren\\'t missing values in the dataset.')"
      ]
    },
    {
      "cell_type": "markdown",
      "id": "6a2945c9",
      "metadata": {
        "id": "6a2945c9"
      },
      "source": [
        "# Handling Outliers"
      ]
    },
    {
      "cell_type": "code",
      "execution_count": 8,
      "id": "4784721b",
      "metadata": {
        "colab": {
          "base_uri": "https://localhost:8080/",
          "height": 563
        },
        "id": "4784721b",
        "outputId": "f9aba3f7-0833-4fb6-9d68-d42e85fe7fcf"
      },
      "outputs": [
        {
          "data": {
            "image/png": "[encoded data removed]",
            "text/plain": [
              "<Figure size 1000x600 with 1 Axes>"
            ]
          },
          "metadata": {},
          "output_type": "display_data"
        }
      ],
      "source": [
        "# Outliers = Unusual Values\n",
        "\n",
        "plt.figure(figsize=(10, 6))\n",
        "sns.boxplot(data=data, orient='h') # horizontal\n",
        "plt.title('Outliers')\n",
        "plt.grid(axis='y')\n",
        "plt.show()"
      ]
    },
    {
      "cell_type": "code",
      "execution_count": 9,
      "id": "27bd442f",
      "metadata": {
        "colab": {
          "base_uri": "https://localhost:8080/"
        },
        "id": "27bd442f",
        "outputId": "95b0e9f5-139f-4772-f0bd-e12cb922ada6"
      },
      "outputs": [
        {
          "data": {
            "text/plain": [
              "Index(['step', 'type', 'amount', 'nameOrig', 'oldbalanceOrg', 'newbalanceOrig',\n",
              "       'nameDest', 'oldbalanceDest', 'newbalanceDest', 'isFraud',\n",
              "       'isFlaggedFraud'],\n",
              "      dtype='object')"
            ]
          },
          "execution_count": 9,
          "metadata": {},
          "output_type": "execute_result"
        }
      ],
      "source": [
        "data.columns"
      ]
    },
    {
      "cell_type": "markdown",
      "id": "038e3709",
      "metadata": {
        "id": "038e3709"
      },
      "source": [
        "# Analysis and exploration of categories of the \"type\" feature"
      ]
    },
    {
      "cell_type": "code",
      "execution_count": 10,
      "id": "f399100d",
      "metadata": {
        "colab": {
          "base_uri": "https://localhost:8080/"
        },
        "id": "f399100d",
        "outputId": "a84f48cf-1a85-434f-dadb-979f84396df7"
      },
      "outputs": [
        {
          "data": {
            "text/plain": [
              "array(['PAYMENT', 'TRANSFER', 'CASH_OUT', 'DEBIT', 'CASH_IN'],\n",
              "      dtype=object)"
            ]
          },
          "execution_count": 10,
          "metadata": {},
          "output_type": "execute_result"
        }
      ],
      "source": [
        "# check labels in \"type\" feature\n",
        "data['type'].unique()"
      ]
    },
    {
      "cell_type": "code",
      "execution_count": 11,
      "id": "5550139a",
      "metadata": {
        "colab": {
          "base_uri": "https://localhost:8080/"
        },
        "id": "5550139a",
        "outputId": "879c37eb-8e0c-40a3-f00c-89d4a9bd1f6a"
      },
      "outputs": [
        {
          "data": {
            "text/plain": [
              "type\n",
              "CASH_OUT    2237500\n",
              "PAYMENT     2151495\n",
              "CASH_IN     1399284\n",
              "TRANSFER     532909\n",
              "DEBIT         41432\n",
              "Name: count, dtype: int64"
            ]
          },
          "execution_count": 11,
          "metadata": {},
          "output_type": "execute_result"
        }
      ],
      "source": [
        "data['type'].value_counts()"
      ]
    },
    {
      "cell_type": "code",
      "execution_count": 12,
      "id": "01567c6e",
      "metadata": {
        "colab": {
          "base_uri": "https://localhost:8080/",
          "height": 333
        },
        "id": "01567c6e",
        "outputId": "03b2c6b6-9368-4f3f-c1f0-8ebc0fa1ffdd"
      },
      "outputs": [
        {
          "data": {
            "image/png": "[encoded data removed]",
            "text/plain": [
              "<Figure size 700x300 with 1 Axes>"
            ]
          },
          "metadata": {},
          "output_type": "display_data"
        }
      ],
      "source": [
        "plt.figure(figsize=(7,3))\n",
        "plt.title('type vs counts')\n",
        "sns.countplot(data=data,x='type',palette='coolwarm')\n",
        "plt.xlabel('Type')\n",
        "plt.ylabel('Counts')\n",
        "plt.grid(axis='y', alpha=1)\n",
        "plt.show()"
      ]
    },
    {
      "cell_type": "markdown",
      "id": "0f41c403",
      "metadata": {
        "id": "0f41c403"
      },
      "source": [
        "# Label Encoding"
      ]
    },
    {
      "cell_type": "code",
      "execution_count": 13,
      "id": "acc9e316",
      "metadata": {
        "id": "acc9e316"
      },
      "outputs": [],
      "source": [
        "data['type'].replace({'CASH_OUT':0, 'PAYMENT':1, 'CASH_IN':2, 'TRANSFER':3, 'DEBIT':4}, inplace=True)"
      ]
    },
    {
      "cell_type": "code",
      "execution_count": 14,
      "id": "8d9f76e1",
      "metadata": {
        "colab": {
          "base_uri": "https://localhost:8080/"
        },
        "id": "8d9f76e1",
        "outputId": "70d9b904-4ec9-4f9a-effa-fd3ba32bd070"
      },
      "outputs": [
        {
          "data": {
            "text/plain": [
              "type\n",
              "0    2237500\n",
              "1    2151495\n",
              "2    1399284\n",
              "3     532909\n",
              "4      41432\n",
              "Name: count, dtype: int64"
            ]
          },
          "execution_count": 14,
          "metadata": {},
          "output_type": "execute_result"
        }
      ],
      "source": [
        "data['type'].value_counts()"
      ]
    },
    {
      "cell_type": "code",
      "execution_count": 15,
      "id": "df3a42f6",
      "metadata": {
        "colab": {
          "base_uri": "https://localhost:8080/",
          "height": 226
        },
        "id": "df3a42f6",
        "outputId": "f9fc1ade-7543-459f-a3a1-54d1f4981fb9"
      },
      "outputs": [
        {
          "data": {
            "text/html": [
              "<div>\n",
              "<style scoped>\n",
              "    .dataframe tbody tr th:only-of-type {\n",
              "        vertical-align: middle;\n",
              "    }\n",
              "\n",
              "    .dataframe tbody tr th {\n",
              "        vertical-align: top;\n",
              "    }\n",
              "\n",
              "    .dataframe thead th {\n",
              "        text-align: right;\n",
              "    }\n",
              "</style>\n",
              "<table border=\"1\" class=\"dataframe\">\n",
              "  <thead>\n",
              "    <tr style=\"text-align: right;\">\n",
              "      <th></th>\n",
              "      <th>step</th>\n",
              "      <th>type</th>\n",
              "      <th>amount</th>\n",
              "      <th>nameOrig</th>\n",
              "      <th>oldbalanceOrg</th>\n",
              "      <th>newbalanceOrig</th>\n",
              "      <th>nameDest</th>\n",
              "      <th>oldbalanceDest</th>\n",
              "      <th>newbalanceDest</th>\n",
              "      <th>isFraud</th>\n",
              "      <th>isFlaggedFraud</th>\n",
              "    </tr>\n",
              "  </thead>\n",
              "  <tbody>\n",
              "    <tr>\n",
              "      <th>0</th>\n",
              "      <td>1</td>\n",
              "      <td>1</td>\n",
              "      <td>9839.64</td>\n",
              "      <td>C1231006815</td>\n",
              "      <td>170136.0</td>\n",
              "      <td>160296.36</td>\n",
              "      <td>M1979787155</td>\n",
              "      <td>0.0</td>\n",
              "      <td>0.0</td>\n",
              "      <td>0</td>\n",
              "      <td>0</td>\n",
              "    </tr>\n",
              "    <tr>\n",
              "      <th>1</th>\n",
              "      <td>1</td>\n",
              "      <td>1</td>\n",
              "      <td>1864.28</td>\n",
              "      <td>C1666544295</td>\n",
              "      <td>21249.0</td>\n",
              "      <td>19384.72</td>\n",
              "      <td>M2044282225</td>\n",
              "      <td>0.0</td>\n",
              "      <td>0.0</td>\n",
              "      <td>0</td>\n",
              "      <td>0</td>\n",
              "    </tr>\n",
              "    <tr>\n",
              "      <th>2</th>\n",
              "      <td>1</td>\n",
              "      <td>3</td>\n",
              "      <td>181.00</td>\n",
              "      <td>C1305486145</td>\n",
              "      <td>181.0</td>\n",
              "      <td>0.00</td>\n",
              "      <td>C553264065</td>\n",
              "      <td>0.0</td>\n",
              "      <td>0.0</td>\n",
              "      <td>1</td>\n",
              "      <td>0</td>\n",
              "    </tr>\n",
              "    <tr>\n",
              "      <th>3</th>\n",
              "      <td>1</td>\n",
              "      <td>0</td>\n",
              "      <td>181.00</td>\n",
              "      <td>C840083671</td>\n",
              "      <td>181.0</td>\n",
              "      <td>0.00</td>\n",
              "      <td>C38997010</td>\n",
              "      <td>21182.0</td>\n",
              "      <td>0.0</td>\n",
              "      <td>1</td>\n",
              "      <td>0</td>\n",
              "    </tr>\n",
              "    <tr>\n",
              "      <th>4</th>\n",
              "      <td>1</td>\n",
              "      <td>1</td>\n",
              "      <td>11668.14</td>\n",
              "      <td>C2048537720</td>\n",
              "      <td>41554.0</td>\n",
              "      <td>29885.86</td>\n",
              "      <td>M1230701703</td>\n",
              "      <td>0.0</td>\n",
              "      <td>0.0</td>\n",
              "      <td>0</td>\n",
              "      <td>0</td>\n",
              "    </tr>\n",
              "  </tbody>\n",
              "</table>\n",
              "</div>"
            ],
            "text/plain": [
              "   step  type    amount     nameOrig  oldbalanceOrg  newbalanceOrig  \\\n",
              "0     1     1   9839.64  C1231006815       170136.0       160296.36   \n",
              "1     1     1   1864.28  C1666544295        21249.0        19384.72   \n",
              "2     1     3    181.00  C1305486145          181.0            0.00   \n",
              "3     1     0    181.00   C840083671          181.0            0.00   \n",
              "4     1     1  11668.14  C2048537720        41554.0        29885.86   \n",
              "\n",
              "      nameDest  oldbalanceDest  newbalanceDest  isFraud  isFlaggedFraud  \n",
              "0  M1979787155             0.0             0.0        0               0  \n",
              "1  M2044282225             0.0             0.0        0               0  \n",
              "2   C553264065             0.0             0.0        1               0  \n",
              "3    C38997010         21182.0             0.0        1               0  \n",
              "4  M1230701703             0.0             0.0        0               0  "
            ]
          },
          "execution_count": 15,
          "metadata": {},
          "output_type": "execute_result"
        }
      ],
      "source": [
        "data.head()"
      ]
    },
    {
      "cell_type": "markdown",
      "id": "db64edcc",
      "metadata": {
        "id": "db64edcc"
      },
      "source": [
        "# Analysis and exploration of categories of the \"isFraud\" feature"
      ]
    },
    {
      "cell_type": "code",
      "execution_count": 16,
      "id": "c0559020",
      "metadata": {
        "colab": {
          "base_uri": "https://localhost:8080/"
        },
        "id": "c0559020",
        "outputId": "842a4101-62d4-4531-c344-43b9cc61cb93"
      },
      "outputs": [
        {
          "data": {
            "text/plain": [
              "array([0, 1], dtype=int64)"
            ]
          },
          "execution_count": 16,
          "metadata": {},
          "output_type": "execute_result"
        }
      ],
      "source": [
        "# check labels in \"isFraud\" feature\n",
        "data['isFraud'].unique()"
      ]
    },
    {
      "cell_type": "code",
      "execution_count": 17,
      "id": "44f81b08",
      "metadata": {
        "colab": {
          "base_uri": "https://localhost:8080/"
        },
        "id": "44f81b08",
        "outputId": "d56b4aaa-59b3-44cc-9504-d16010582e8a"
      },
      "outputs": [
        {
          "data": {
            "text/plain": [
              "isFraud\n",
              "0    6354407\n",
              "1       8213\n",
              "Name: count, dtype: int64"
            ]
          },
          "execution_count": 17,
          "metadata": {},
          "output_type": "execute_result"
        }
      ],
      "source": [
        "data['isFraud'].value_counts()"
      ]
    },
    {
      "cell_type": "code",
      "execution_count": 18,
      "id": "8c77c514",
      "metadata": {
        "colab": {
          "base_uri": "https://localhost:8080/",
          "height": 508
        },
        "id": "8c77c514",
        "outputId": "166d37f7-724b-40af-82bb-4acae678a704"
      },
      "outputs": [
        {
          "data": {
            "image/png": "[encoded data removed]",
            "text/plain": [
              "<Figure size 800x500 with 1 Axes>"
            ]
          },
          "metadata": {},
          "output_type": "display_data"
        }
      ],
      "source": [
        "Target_counts = data['isFraud'].value_counts()\n",
        "\n",
        "# Plot\n",
        "plt.figure(figsize=(8, 5))\n",
        "sns.barplot(x=Target_counts.index, y=Target_counts.values)\n",
        "plt.xlabel('Target')\n",
        "plt.ylabel('Count')\n",
        "plt.title('Target Counts \\n (isn\\'t Fraud = 0 || is Fraud = 1)')\n",
        "plt.xticks()\n",
        "plt.grid(axis='y')\n",
        "plt.show()"
      ]
    },
    {
      "cell_type": "markdown",
      "id": "8664e72d",
      "metadata": {
        "id": "8664e72d"
      },
      "source": [
        "# Dropping unnecessary features"
      ]
    },
    {
      "cell_type": "code",
      "execution_count": 19,
      "id": "0d1f5db2",
      "metadata": {
        "id": "0d1f5db2"
      },
      "outputs": [],
      "source": [
        "data.drop(['nameOrig', 'nameDest'], axis=1, inplace=True)"
      ]
    },
    {
      "cell_type": "code",
      "execution_count": 20,
      "id": "682c6e63",
      "metadata": {
        "colab": {
          "base_uri": "https://localhost:8080/"
        },
        "id": "682c6e63",
        "outputId": "b8a980a6-60fd-42aa-c45a-1a55f2ba4516"
      },
      "outputs": [
        {
          "data": {
            "text/plain": [
              "Index(['step', 'type', 'amount', 'oldbalanceOrg', 'newbalanceOrig',\n",
              "       'oldbalanceDest', 'newbalanceDest', 'isFraud', 'isFlaggedFraud'],\n",
              "      dtype='object')"
            ]
          },
          "execution_count": 20,
          "metadata": {},
          "output_type": "execute_result"
        }
      ],
      "source": [
        "data.columns"
      ]
    },
    {
      "cell_type": "code",
      "execution_count": 21,
      "id": "9c485688",
      "metadata": {
        "colab": {
          "base_uri": "https://localhost:8080/"
        },
        "id": "9c485688",
        "outputId": "63b39adf-df41-43e2-f8a3-fcf60ed0fe63"
      },
      "outputs": [
        {
          "data": {
            "text/plain": [
              "(6362620, 9)"
            ]
          },
          "execution_count": 21,
          "metadata": {},
          "output_type": "execute_result"
        }
      ],
      "source": [
        "data.shape # (rows, columns)"
      ]
    },
    {
      "cell_type": "markdown",
      "id": "1f138636",
      "metadata": {
        "id": "1f138636"
      },
      "source": [
        "# Feature Extraction"
      ]
    },
    {
      "cell_type": "code",
      "execution_count": 22,
      "id": "91f4f048",
      "metadata": {
        "colab": {
          "base_uri": "https://localhost:8080/",
          "height": 351
        },
        "id": "91f4f048",
        "outputId": "7a011de6-c5c2-44ac-b0a1-555994651c51"
      },
      "outputs": [
        {
          "data": {
            "text/html": [
              "<div>\n",
              "<style scoped>\n",
              "    .dataframe tbody tr th:only-of-type {\n",
              "        vertical-align: middle;\n",
              "    }\n",
              "\n",
              "    .dataframe tbody tr th {\n",
              "        vertical-align: top;\n",
              "    }\n",
              "\n",
              "    .dataframe thead th {\n",
              "        text-align: right;\n",
              "    }\n",
              "</style>\n",
              "<table border=\"1\" class=\"dataframe\">\n",
              "  <thead>\n",
              "    <tr style=\"text-align: right;\">\n",
              "      <th></th>\n",
              "      <th>step</th>\n",
              "      <th>type</th>\n",
              "      <th>amount</th>\n",
              "      <th>oldbalanceOrg</th>\n",
              "      <th>newbalanceOrig</th>\n",
              "      <th>oldbalanceDest</th>\n",
              "      <th>newbalanceDest</th>\n",
              "      <th>isFraud</th>\n",
              "      <th>isFlaggedFraud</th>\n",
              "    </tr>\n",
              "  </thead>\n",
              "  <tbody>\n",
              "    <tr>\n",
              "      <th>step</th>\n",
              "      <td>1.000000</td>\n",
              "      <td>0.012627</td>\n",
              "      <td>0.022373</td>\n",
              "      <td>-0.010058</td>\n",
              "      <td>-0.010299</td>\n",
              "      <td>0.027665</td>\n",
              "      <td>0.025888</td>\n",
              "      <td>0.031578</td>\n",
              "      <td>0.003277</td>\n",
              "    </tr>\n",
              "    <tr>\n",
              "      <th>type</th>\n",
              "      <td>0.012627</td>\n",
              "      <td>1.000000</td>\n",
              "      <td>0.198987</td>\n",
              "      <td>0.260418</td>\n",
              "      <td>0.270669</td>\n",
              "      <td>0.066255</td>\n",
              "      <td>0.079111</td>\n",
              "      <td>0.016171</td>\n",
              "      <td>0.003144</td>\n",
              "    </tr>\n",
              "    <tr>\n",
              "      <th>amount</th>\n",
              "      <td>0.022373</td>\n",
              "      <td>0.198987</td>\n",
              "      <td>1.000000</td>\n",
              "      <td>-0.002762</td>\n",
              "      <td>-0.007861</td>\n",
              "      <td>0.294137</td>\n",
              "      <td>0.459304</td>\n",
              "      <td>0.076688</td>\n",
              "      <td>0.012295</td>\n",
              "    </tr>\n",
              "    <tr>\n",
              "      <th>oldbalanceOrg</th>\n",
              "      <td>-0.010058</td>\n",
              "      <td>0.260418</td>\n",
              "      <td>-0.002762</td>\n",
              "      <td>1.000000</td>\n",
              "      <td>0.998803</td>\n",
              "      <td>0.066243</td>\n",
              "      <td>0.042029</td>\n",
              "      <td>0.010154</td>\n",
              "      <td>0.003835</td>\n",
              "    </tr>\n",
              "    <tr>\n",
              "      <th>newbalanceOrig</th>\n",
              "      <td>-0.010299</td>\n",
              "      <td>0.270669</td>\n",
              "      <td>-0.007861</td>\n",
              "      <td>0.998803</td>\n",
              "      <td>1.000000</td>\n",
              "      <td>0.067812</td>\n",
              "      <td>0.041837</td>\n",
              "      <td>-0.008148</td>\n",
              "      <td>0.003776</td>\n",
              "    </tr>\n",
              "    <tr>\n",
              "      <th>oldbalanceDest</th>\n",
              "      <td>0.027665</td>\n",
              "      <td>0.066255</td>\n",
              "      <td>0.294137</td>\n",
              "      <td>0.066243</td>\n",
              "      <td>0.067812</td>\n",
              "      <td>1.000000</td>\n",
              "      <td>0.976569</td>\n",
              "      <td>-0.005885</td>\n",
              "      <td>-0.000513</td>\n",
              "    </tr>\n",
              "    <tr>\n",
              "      <th>newbalanceDest</th>\n",
              "      <td>0.025888</td>\n",
              "      <td>0.079111</td>\n",
              "      <td>0.459304</td>\n",
              "      <td>0.042029</td>\n",
              "      <td>0.041837</td>\n",
              "      <td>0.976569</td>\n",
              "      <td>1.000000</td>\n",
              "      <td>0.000535</td>\n",
              "      <td>-0.000529</td>\n",
              "    </tr>\n",
              "    <tr>\n",
              "      <th>isFraud</th>\n",
              "      <td>0.031578</td>\n",
              "      <td>0.016171</td>\n",
              "      <td>0.076688</td>\n",
              "      <td>0.010154</td>\n",
              "      <td>-0.008148</td>\n",
              "      <td>-0.005885</td>\n",
              "      <td>0.000535</td>\n",
              "      <td>1.000000</td>\n",
              "      <td>0.044109</td>\n",
              "    </tr>\n",
              "    <tr>\n",
              "      <th>isFlaggedFraud</th>\n",
              "      <td>0.003277</td>\n",
              "      <td>0.003144</td>\n",
              "      <td>0.012295</td>\n",
              "      <td>0.003835</td>\n",
              "      <td>0.003776</td>\n",
              "      <td>-0.000513</td>\n",
              "      <td>-0.000529</td>\n",
              "      <td>0.044109</td>\n",
              "      <td>1.000000</td>\n",
              "    </tr>\n",
              "  </tbody>\n",
              "</table>\n",
              "</div>"
            ],
            "text/plain": [
              "                    step      type    amount  oldbalanceOrg  newbalanceOrig  \\\n",
              "step            1.000000  0.012627  0.022373      -0.010058       -0.010299   \n",
              "type            0.012627  1.000000  0.198987       0.260418        0.270669   \n",
              "amount          0.022373  0.198987  1.000000      -0.002762       -0.007861   \n",
              "oldbalanceOrg  -0.010058  0.260418 -0.002762       1.000000        0.998803   \n",
              "newbalanceOrig -0.010299  0.270669 -0.007861       0.998803        1.000000   \n",
              "oldbalanceDest  0.027665  0.066255  0.294137       0.066243        0.067812   \n",
              "newbalanceDest  0.025888  0.079111  0.459304       0.042029        0.041837   \n",
              "isFraud         0.031578  0.016171  0.076688       0.010154       -0.008148   \n",
              "isFlaggedFraud  0.003277  0.003144  0.012295       0.003835        0.003776   \n",
              "\n",
              "                oldbalanceDest  newbalanceDest   isFraud  isFlaggedFraud  \n",
              "step                  0.027665        0.025888  0.031578        0.003277  \n",
              "type                  0.066255        0.079111  0.016171        0.003144  \n",
              "amount                0.294137        0.459304  0.076688        0.012295  \n",
              "oldbalanceOrg         0.066243        0.042029  0.010154        0.003835  \n",
              "newbalanceOrig        0.067812        0.041837 -0.008148        0.003776  \n",
              "oldbalanceDest        1.000000        0.976569 -0.005885       -0.000513  \n",
              "newbalanceDest        0.976569        1.000000  0.000535       -0.000529  \n",
              "isFraud              -0.005885        0.000535  1.000000        0.044109  \n",
              "isFlaggedFraud       -0.000513       -0.000529  0.044109        1.000000  "
            ]
          },
          "execution_count": 22,
          "metadata": {},
          "output_type": "execute_result"
        }
      ],
      "source": [
        "# The correlation between features\n",
        "# Understanding the correlation between various features in the dataset\n",
        "# Select only the numeric columns\n",
        "\n",
        "data.corr()"
      ]
    },
    {
      "cell_type": "code",
      "execution_count": 23,
      "id": "b17b2f18",
      "metadata": {
        "colab": {
          "base_uri": "https://localhost:8080/",
          "height": 783
        },
        "id": "b17b2f18",
        "outputId": "3f2e8d54-978e-42f5-807d-76b017ba13cb"
      },
      "outputs": [
        {
          "data": {
            "image/png": "[encoded data removed]",
            "text/plain": [
              "<Figure size 800x800 with 2 Axes>"
            ]
          },
          "metadata": {},
          "output_type": "display_data"
        }
      ],
      "source": [
        "plt.figure(figsize=(8, 8))\n",
        "sns.heatmap(data.corr(), annot=True, linewidths=0.9, fmt=\".1f\", cmap='Spectral')\n",
        "plt.show()"
      ]
    },
    {
      "cell_type": "markdown",
      "id": "d0c5970a",
      "metadata": {
        "id": "d0c5970a"
      },
      "source": [
        "# Correlation between <b>oldbalanceOrg</b> and <b>newbalanceOrig</b> = (0.99)"
      ]
    },
    {
      "cell_type": "code",
      "execution_count": 24,
      "id": "c1e6511d",
      "metadata": {
        "colab": {
          "base_uri": "https://localhost:8080/",
          "height": 472
        },
        "id": "c1e6511d",
        "outputId": "59a40d7a-dcbb-4675-8b88-2460d7accea7"
      },
      "outputs": [
        {
          "data": {
            "image/png": "[encoded data removed]",
            "text/plain": [
              "<Figure size 640x480 with 1 Axes>"
            ]
          },
          "metadata": {},
          "output_type": "display_data"
        }
      ],
      "source": [
        "plt.scatter(data['oldbalanceOrg'], data['newbalanceOrig'], label='Data')\n",
        "plt.xlabel('oldbalanceOrg')\n",
        "plt.ylabel('newbalanceOrig')\n",
        "plt.title('oldbalanceOrg vs. newbalanceOrig')\n",
        "plt.grid(True)\n",
        "plt.show()"
      ]
    },
    {
      "cell_type": "markdown",
      "id": "0d9f2ecc",
      "metadata": {
        "id": "0d9f2ecc"
      },
      "source": [
        "# Dropping unnecessary features based on correlation"
      ]
    },
    {
      "cell_type": "code",
      "execution_count": 25,
      "id": "e2eed2dc",
      "metadata": {
        "id": "e2eed2dc"
      },
      "outputs": [],
      "source": [
        "data.drop(['isFlaggedFraud', 'step'], axis=1, inplace=True)"
      ]
    },
    {
      "cell_type": "code",
      "execution_count": 26,
      "id": "31d50d02",
      "metadata": {
        "colab": {
          "base_uri": "https://localhost:8080/"
        },
        "id": "31d50d02",
        "outputId": "946282db-38a0-463b-c044-5de7fbf3c70d"
      },
      "outputs": [
        {
          "data": {
            "text/plain": [
              "Index(['type', 'amount', 'oldbalanceOrg', 'newbalanceOrig', 'oldbalanceDest',\n",
              "       'newbalanceDest', 'isFraud'],\n",
              "      dtype='object')"
            ]
          },
          "execution_count": 26,
          "metadata": {},
          "output_type": "execute_result"
        }
      ],
      "source": [
        "data.columns"
      ]
    },
    {
      "cell_type": "code",
      "execution_count": 27,
      "id": "08687945",
      "metadata": {
        "colab": {
          "base_uri": "https://localhost:8080/"
        },
        "id": "08687945",
        "outputId": "c3c441e6-0432-40b7-ee50-cf07d9b78f87"
      },
      "outputs": [
        {
          "data": {
            "text/plain": [
              "(6362620, 7)"
            ]
          },
          "execution_count": 27,
          "metadata": {},
          "output_type": "execute_result"
        }
      ],
      "source": [
        "data.shape"
      ]
    },
    {
      "cell_type": "code",
      "execution_count": 28,
      "id": "bea0678a",
      "metadata": {
        "colab": {
          "base_uri": "https://localhost:8080/"
        },
        "id": "bea0678a",
        "outputId": "c525a613-db46-4833-9fd6-47b45ba15e96"
      },
      "outputs": [
        {
          "name": "stdout",
          "output_type": "stream",
          "text": [
            "<class 'pandas.core.frame.DataFrame'>\n",
            "RangeIndex: 6362620 entries, 0 to 6362619\n",
            "Data columns (total 7 columns):\n",
            " #   Column          Dtype  \n",
            "---  ------          -----  \n",
            " 0   type            int64  \n",
            " 1   amount          float64\n",
            " 2   oldbalanceOrg   float64\n",
            " 3   newbalanceOrig  float64\n",
            " 4   oldbalanceDest  float64\n",
            " 5   newbalanceDest  float64\n",
            " 6   isFraud         int64  \n",
            "dtypes: float64(5), int64(2)\n",
            "memory usage: 339.8 MB\n"
          ]
        }
      ],
      "source": [
        "data.info()"
      ]
    },
    {
      "cell_type": "code",
      "execution_count": 29,
      "id": "865dbf75",
      "metadata": {
        "colab": {
          "base_uri": "https://localhost:8080/",
          "height": 206
        },
        "id": "865dbf75",
        "outputId": "7401bafa-ff1c-4275-c3ba-2c247ba13a57"
      },
      "outputs": [
        {
          "data": {
            "text/html": [
              "<div>\n",
              "<style scoped>\n",
              "    .dataframe tbody tr th:only-of-type {\n",
              "        vertical-align: middle;\n",
              "    }\n",
              "\n",
              "    .dataframe tbody tr th {\n",
              "        vertical-align: top;\n",
              "    }\n",
              "\n",
              "    .dataframe thead th {\n",
              "        text-align: right;\n",
              "    }\n",
              "</style>\n",
              "<table border=\"1\" class=\"dataframe\">\n",
              "  <thead>\n",
              "    <tr style=\"text-align: right;\">\n",
              "      <th></th>\n",
              "      <th>type</th>\n",
              "      <th>amount</th>\n",
              "      <th>oldbalanceOrg</th>\n",
              "      <th>newbalanceOrig</th>\n",
              "      <th>oldbalanceDest</th>\n",
              "      <th>newbalanceDest</th>\n",
              "      <th>isFraud</th>\n",
              "    </tr>\n",
              "  </thead>\n",
              "  <tbody>\n",
              "    <tr>\n",
              "      <th>0</th>\n",
              "      <td>1</td>\n",
              "      <td>9839.64</td>\n",
              "      <td>170136.0</td>\n",
              "      <td>160296.36</td>\n",
              "      <td>0.0</td>\n",
              "      <td>0.0</td>\n",
              "      <td>0</td>\n",
              "    </tr>\n",
              "    <tr>\n",
              "      <th>1</th>\n",
              "      <td>1</td>\n",
              "      <td>1864.28</td>\n",
              "      <td>21249.0</td>\n",
              "      <td>19384.72</td>\n",
              "      <td>0.0</td>\n",
              "      <td>0.0</td>\n",
              "      <td>0</td>\n",
              "    </tr>\n",
              "    <tr>\n",
              "      <th>2</th>\n",
              "      <td>3</td>\n",
              "      <td>181.00</td>\n",
              "      <td>181.0</td>\n",
              "      <td>0.00</td>\n",
              "      <td>0.0</td>\n",
              "      <td>0.0</td>\n",
              "      <td>1</td>\n",
              "    </tr>\n",
              "    <tr>\n",
              "      <th>3</th>\n",
              "      <td>0</td>\n",
              "      <td>181.00</td>\n",
              "      <td>181.0</td>\n",
              "      <td>0.00</td>\n",
              "      <td>21182.0</td>\n",
              "      <td>0.0</td>\n",
              "      <td>1</td>\n",
              "    </tr>\n",
              "    <tr>\n",
              "      <th>4</th>\n",
              "      <td>1</td>\n",
              "      <td>11668.14</td>\n",
              "      <td>41554.0</td>\n",
              "      <td>29885.86</td>\n",
              "      <td>0.0</td>\n",
              "      <td>0.0</td>\n",
              "      <td>0</td>\n",
              "    </tr>\n",
              "  </tbody>\n",
              "</table>\n",
              "</div>"
            ],
            "text/plain": [
              "   type    amount  oldbalanceOrg  newbalanceOrig  oldbalanceDest  \\\n",
              "0     1   9839.64       170136.0       160296.36             0.0   \n",
              "1     1   1864.28        21249.0        19384.72             0.0   \n",
              "2     3    181.00          181.0            0.00             0.0   \n",
              "3     0    181.00          181.0            0.00         21182.0   \n",
              "4     1  11668.14        41554.0        29885.86             0.0   \n",
              "\n",
              "   newbalanceDest  isFraud  \n",
              "0             0.0        0  \n",
              "1             0.0        0  \n",
              "2             0.0        1  \n",
              "3             0.0        1  \n",
              "4             0.0        0  "
            ]
          },
          "execution_count": 29,
          "metadata": {},
          "output_type": "execute_result"
        }
      ],
      "source": [
        "data.head() # Default : first 5 rows"
      ]
    },
    {
      "cell_type": "code",
      "execution_count": 30,
      "id": "b4360581",
      "metadata": {
        "colab": {
          "base_uri": "https://localhost:8080/",
          "height": 206
        },
        "id": "b4360581",
        "outputId": "7751777d-a672-44b6-fc1b-51d51f4cc404"
      },
      "outputs": [
        {
          "data": {
            "text/html": [
              "<div>\n",
              "<style scoped>\n",
              "    .dataframe tbody tr th:only-of-type {\n",
              "        vertical-align: middle;\n",
              "    }\n",
              "\n",
              "    .dataframe tbody tr th {\n",
              "        vertical-align: top;\n",
              "    }\n",
              "\n",
              "    .dataframe thead th {\n",
              "        text-align: right;\n",
              "    }\n",
              "</style>\n",
              "<table border=\"1\" class=\"dataframe\">\n",
              "  <thead>\n",
              "    <tr style=\"text-align: right;\">\n",
              "      <th></th>\n",
              "      <th>type</th>\n",
              "      <th>amount</th>\n",
              "      <th>oldbalanceOrg</th>\n",
              "      <th>newbalanceOrig</th>\n",
              "      <th>oldbalanceDest</th>\n",
              "      <th>newbalanceDest</th>\n",
              "      <th>isFraud</th>\n",
              "    </tr>\n",
              "  </thead>\n",
              "  <tbody>\n",
              "    <tr>\n",
              "      <th>6362615</th>\n",
              "      <td>0</td>\n",
              "      <td>339682.13</td>\n",
              "      <td>339682.13</td>\n",
              "      <td>0.0</td>\n",
              "      <td>0.00</td>\n",
              "      <td>339682.13</td>\n",
              "      <td>1</td>\n",
              "    </tr>\n",
              "    <tr>\n",
              "      <th>6362616</th>\n",
              "      <td>3</td>\n",
              "      <td>6311409.28</td>\n",
              "      <td>6311409.28</td>\n",
              "      <td>0.0</td>\n",
              "      <td>0.00</td>\n",
              "      <td>0.00</td>\n",
              "      <td>1</td>\n",
              "    </tr>\n",
              "    <tr>\n",
              "      <th>6362617</th>\n",
              "      <td>0</td>\n",
              "      <td>6311409.28</td>\n",
              "      <td>6311409.28</td>\n",
              "      <td>0.0</td>\n",
              "      <td>68488.84</td>\n",
              "      <td>6379898.11</td>\n",
              "      <td>1</td>\n",
              "    </tr>\n",
              "    <tr>\n",
              "      <th>6362618</th>\n",
              "      <td>3</td>\n",
              "      <td>850002.52</td>\n",
              "      <td>850002.52</td>\n",
              "      <td>0.0</td>\n",
              "      <td>0.00</td>\n",
              "      <td>0.00</td>\n",
              "      <td>1</td>\n",
              "    </tr>\n",
              "    <tr>\n",
              "      <th>6362619</th>\n",
              "      <td>0</td>\n",
              "      <td>850002.52</td>\n",
              "      <td>850002.52</td>\n",
              "      <td>0.0</td>\n",
              "      <td>6510099.11</td>\n",
              "      <td>7360101.63</td>\n",
              "      <td>1</td>\n",
              "    </tr>\n",
              "  </tbody>\n",
              "</table>\n",
              "</div>"
            ],
            "text/plain": [
              "         type      amount  oldbalanceOrg  newbalanceOrig  oldbalanceDest  \\\n",
              "6362615     0   339682.13      339682.13             0.0            0.00   \n",
              "6362616     3  6311409.28     6311409.28             0.0            0.00   \n",
              "6362617     0  6311409.28     6311409.28             0.0        68488.84   \n",
              "6362618     3   850002.52      850002.52             0.0            0.00   \n",
              "6362619     0   850002.52      850002.52             0.0      6510099.11   \n",
              "\n",
              "         newbalanceDest  isFraud  \n",
              "6362615       339682.13        1  \n",
              "6362616            0.00        1  \n",
              "6362617      6379898.11        1  \n",
              "6362618            0.00        1  \n",
              "6362619      7360101.63        1  "
            ]
          },
          "execution_count": 30,
          "metadata": {},
          "output_type": "execute_result"
        }
      ],
      "source": [
        "data.tail() # Default : last 5 rows"
      ]
    },
    {
      "cell_type": "code",
      "execution_count": 31,
      "id": "86ae7763",
      "metadata": {
        "colab": {
          "base_uri": "https://localhost:8080/",
          "height": 269
        },
        "id": "86ae7763",
        "outputId": "1e92e301-f75a-419c-e1d4-15cc9581ee8a"
      },
      "outputs": [
        {
          "data": {
            "text/html": [
              "<div>\n",
              "<style scoped>\n",
              "    .dataframe tbody tr th:only-of-type {\n",
              "        vertical-align: middle;\n",
              "    }\n",
              "\n",
              "    .dataframe tbody tr th {\n",
              "        vertical-align: top;\n",
              "    }\n",
              "\n",
              "    .dataframe thead th {\n",
              "        text-align: right;\n",
              "    }\n",
              "</style>\n",
              "<table border=\"1\" class=\"dataframe\">\n",
              "  <thead>\n",
              "    <tr style=\"text-align: right;\">\n",
              "      <th></th>\n",
              "      <th>count</th>\n",
              "      <th>mean</th>\n",
              "      <th>std</th>\n",
              "      <th>min</th>\n",
              "      <th>25%</th>\n",
              "      <th>50%</th>\n",
              "      <th>75%</th>\n",
              "      <th>max</th>\n",
              "    </tr>\n",
              "  </thead>\n",
              "  <tbody>\n",
              "    <tr>\n",
              "      <th>type</th>\n",
              "      <td>6362620.0</td>\n",
              "      <td>1.055307e+00</td>\n",
              "      <td>9.808966e-01</td>\n",
              "      <td>0.0</td>\n",
              "      <td>0.00</td>\n",
              "      <td>1.000</td>\n",
              "      <td>2.000000e+00</td>\n",
              "      <td>4.000000e+00</td>\n",
              "    </tr>\n",
              "    <tr>\n",
              "      <th>amount</th>\n",
              "      <td>6362620.0</td>\n",
              "      <td>1.798619e+05</td>\n",
              "      <td>6.038582e+05</td>\n",
              "      <td>0.0</td>\n",
              "      <td>13389.57</td>\n",
              "      <td>74871.940</td>\n",
              "      <td>2.087215e+05</td>\n",
              "      <td>9.244552e+07</td>\n",
              "    </tr>\n",
              "    <tr>\n",
              "      <th>oldbalanceOrg</th>\n",
              "      <td>6362620.0</td>\n",
              "      <td>8.338831e+05</td>\n",
              "      <td>2.888243e+06</td>\n",
              "      <td>0.0</td>\n",
              "      <td>0.00</td>\n",
              "      <td>14208.000</td>\n",
              "      <td>1.073152e+05</td>\n",
              "      <td>5.958504e+07</td>\n",
              "    </tr>\n",
              "    <tr>\n",
              "      <th>newbalanceOrig</th>\n",
              "      <td>6362620.0</td>\n",
              "      <td>8.551137e+05</td>\n",
              "      <td>2.924049e+06</td>\n",
              "      <td>0.0</td>\n",
              "      <td>0.00</td>\n",
              "      <td>0.000</td>\n",
              "      <td>1.442584e+05</td>\n",
              "      <td>4.958504e+07</td>\n",
              "    </tr>\n",
              "    <tr>\n",
              "      <th>oldbalanceDest</th>\n",
              "      <td>6362620.0</td>\n",
              "      <td>1.100702e+06</td>\n",
              "      <td>3.399180e+06</td>\n",
              "      <td>0.0</td>\n",
              "      <td>0.00</td>\n",
              "      <td>132705.665</td>\n",
              "      <td>9.430367e+05</td>\n",
              "      <td>3.560159e+08</td>\n",
              "    </tr>\n",
              "    <tr>\n",
              "      <th>newbalanceDest</th>\n",
              "      <td>6362620.0</td>\n",
              "      <td>1.224996e+06</td>\n",
              "      <td>3.674129e+06</td>\n",
              "      <td>0.0</td>\n",
              "      <td>0.00</td>\n",
              "      <td>214661.440</td>\n",
              "      <td>1.111909e+06</td>\n",
              "      <td>3.561793e+08</td>\n",
              "    </tr>\n",
              "    <tr>\n",
              "      <th>isFraud</th>\n",
              "      <td>6362620.0</td>\n",
              "      <td>1.290820e-03</td>\n",
              "      <td>3.590480e-02</td>\n",
              "      <td>0.0</td>\n",
              "      <td>0.00</td>\n",
              "      <td>0.000</td>\n",
              "      <td>0.000000e+00</td>\n",
              "      <td>1.000000e+00</td>\n",
              "    </tr>\n",
              "  </tbody>\n",
              "</table>\n",
              "</div>"
            ],
            "text/plain": [
              "                    count          mean           std  min       25%  \\\n",
              "type            6362620.0  1.055307e+00  9.808966e-01  0.0      0.00   \n",
              "amount          6362620.0  1.798619e+05  6.038582e+05  0.0  13389.57   \n",
              "oldbalanceOrg   6362620.0  8.338831e+05  2.888243e+06  0.0      0.00   \n",
              "newbalanceOrig  6362620.0  8.551137e+05  2.924049e+06  0.0      0.00   \n",
              "oldbalanceDest  6362620.0  1.100702e+06  3.399180e+06  0.0      0.00   \n",
              "newbalanceDest  6362620.0  1.224996e+06  3.674129e+06  0.0      0.00   \n",
              "isFraud         6362620.0  1.290820e-03  3.590480e-02  0.0      0.00   \n",
              "\n",
              "                       50%           75%           max  \n",
              "type                 1.000  2.000000e+00  4.000000e+00  \n",
              "amount           74871.940  2.087215e+05  9.244552e+07  \n",
              "oldbalanceOrg    14208.000  1.073152e+05  5.958504e+07  \n",
              "newbalanceOrig       0.000  1.442584e+05  4.958504e+07  \n",
              "oldbalanceDest  132705.665  9.430367e+05  3.560159e+08  \n",
              "newbalanceDest  214661.440  1.111909e+06  3.561793e+08  \n",
              "isFraud              0.000  0.000000e+00  1.000000e+00  "
            ]
          },
          "execution_count": 31,
          "metadata": {},
          "output_type": "execute_result"
        }
      ],
      "source": [
        "data.describe().T"
      ]
    },
    {
      "cell_type": "code",
      "execution_count": 32,
      "id": "26277b55",
      "metadata": {
        "colab": {
          "base_uri": "https://localhost:8080/"
        },
        "id": "26277b55",
        "outputId": "abb4f423-69fe-4da9-e82e-014045ae9b14"
      },
      "outputs": [
        {
          "data": {
            "text/plain": [
              "(6362620, 7)"
            ]
          },
          "execution_count": 32,
          "metadata": {},
          "output_type": "execute_result"
        }
      ],
      "source": [
        "data.shape # (rows, columns)"
      ]
    },
    {
      "cell_type": "markdown",
      "id": "fc27c885",
      "metadata": {
        "id": "fc27c885"
      },
      "source": [
        "# Splitting the data and target"
      ]
    },
    {
      "cell_type": "code",
      "execution_count": 33,
      "id": "a791f341",
      "metadata": {
        "colab": {
          "base_uri": "https://localhost:8080/"
        },
        "id": "a791f341",
        "outputId": "d08a660e-66d0-45f9-908e-3324ea8bcd10"
      },
      "outputs": [
        {
          "name": "stdout",
          "output_type": "stream",
          "text": [
            "X shape is :  (6362620, 6)\n",
            "\n",
            "y shape is :  (6362620,)\n"
          ]
        }
      ],
      "source": [
        "# X Data\n",
        "X = data.drop(['isFraud'], axis=1)\n",
        "print('X shape is : ' , X.shape)\n",
        "print()\n",
        "\n",
        "# y Data\n",
        "y = data['isFraud']\n",
        "print('y shape is : ' , y.shape)"
      ]
    },
    {
      "cell_type": "markdown",
      "id": "d2d0c0a7",
      "metadata": {
        "id": "d2d0c0a7"
      },
      "source": [
        "# Data Partitioning / Train Test Split"
      ]
    },
    {
      "cell_type": "code",
      "execution_count": 34,
      "id": "fa3dbbf7",
      "metadata": {
        "colab": {
          "base_uri": "https://localhost:8080/"
        },
        "id": "fa3dbbf7",
        "outputId": "b6936fc2-55be-4585-fdba-c03fbfa9a6d6"
      },
      "outputs": [
        {
          "name": "stdout",
          "output_type": "stream",
          "text": [
            "X_train shape is  (4453834, 6)\n",
            "X_test shape is  (1908786, 6)\n",
            "y_train shape is  (4453834,)\n",
            "y_test shape is  (1908786,)\n"
          ]
        }
      ],
      "source": [
        "X_train, X_test, y_train, y_test = train_test_split(X, y, test_size=0.3, random_state=42, shuffle=True)\n",
        "\n",
        "# Splitted Data\n",
        "print('X_train shape is ' , X_train.shape)\n",
        "print('X_test shape is ' , X_test.shape)\n",
        "print('y_train shape is ' , y_train.shape)\n",
        "print('y_test shape is ' , y_test.shape)"
      ]
    },
    {
      "cell_type": "markdown",
      "id": "735dd897",
      "metadata": {
        "id": "735dd897"
      },
      "source": [
        "# Data Scaling / Feature Scaling"
      ]
    },
    {
      "cell_type": "code",
      "execution_count": 35,
      "id": "209d989b",
      "metadata": {
        "id": "209d989b"
      },
      "outputs": [],
      "source": [
        "# Standardization (Z-Score Normalization)\n",
        "# StandardScaler for Data\n",
        "\n",
        "scaler = StandardScaler()\n",
        "\n",
        "# Fit the scaler on the training data\n",
        "scaler.fit(X_train)\n",
        "\n",
        "# Transform the training and testing data\n",
        "X_train_scaled = scaler.transform(X_train)\n",
        "X_test_scaled = scaler.transform(X_test)"
      ]
    },
    {
      "cell_type": "markdown",
      "id": "6740bbff",
      "metadata": {
        "id": "6740bbff"
      },
      "source": [
        "#  Applying \"Logistic Regression\" Algorithm"
      ]
    },
    {
      "cell_type": "code",
      "execution_count": 36,
      "id": "8252ad9e",
      "metadata": {
        "colab": {
          "base_uri": "https://localhost:8080/"
        },
        "id": "8252ad9e",
        "outputId": "f0a16dc2-09eb-48e0-de35-62f130b31584"
      },
      "outputs": [
        {
          "name": "stdout",
          "output_type": "stream",
          "text": [
            "Training accuracy: 99.92 %\n",
            "Testing accuracy: 99.92 %\n"
          ]
        }
      ],
      "source": [
        "Model_LR = LogisticRegression()\n",
        "Model_LR.fit(X_train_scaled, y_train)\n",
        "y_pred_LR = Model_LR.predict(X_test_scaled)\n",
        "\n",
        "# Quick evaluation\n",
        "Train_Accuracy = Model_LR.score(X_train_scaled, y_train)\n",
        "Test_Accuracy = Model_LR.score(X_test_scaled, y_test)\n",
        "print(f'Training accuracy: {Train_Accuracy*100:.2f} %')\n",
        "print(f'Testing accuracy: {Test_Accuracy*100:.2f} %')"
      ]
    },
    {
      "cell_type": "markdown",
      "id": "209e452b",
      "metadata": {
        "id": "209e452b"
      },
      "source": [
        "# The Evaluation"
      ]
    },
    {
      "cell_type": "code",
      "execution_count": 37,
      "id": "7353a475",
      "metadata": {
        "colab": {
          "base_uri": "https://localhost:8080/",
          "height": 472
        },
        "id": "7353a475",
        "outputId": "2879a2e7-b3ac-46c3-9e89-556a0c87054e"
      },
      "outputs": [
        {
          "data": {
            "image/png": "[encoded data removed]",
            "text/plain": [
              "<Figure size 640x480 with 2 Axes>"
            ]
          },
          "metadata": {},
          "output_type": "display_data"
        }
      ],
      "source": [
        "# Confusion Matrix\n",
        "\n",
        "CM = confusion_matrix(y_true=y_test, y_pred=y_pred_LR)\n",
        "ConfusionMatrixDisplay(CM, display_labels=data['isFraud'].unique()).plot()\n",
        "plt.title('Confusion Matrix Without Normalization')\n",
        "plt.show()"
      ]
    },
    {
      "cell_type": "code",
      "execution_count": 38,
      "id": "3175795a",
      "metadata": {
        "colab": {
          "base_uri": "https://localhost:8080/"
        },
        "id": "3175795a",
        "outputId": "1468881d-396f-4524-cf51-6c518dc3d877"
      },
      "outputs": [
        {
          "name": "stdout",
          "output_type": "stream",
          "text": [
            "              precision    recall  f1-score   support\n",
            "\n",
            "           0       1.00      1.00      1.00   1906351\n",
            "           1       0.86      0.41      0.55      2435\n",
            "\n",
            "    accuracy                           1.00   1908786\n",
            "   macro avg       0.93      0.70      0.78   1908786\n",
            "weighted avg       1.00      1.00      1.00   1908786\n",
            "\n"
          ]
        }
      ],
      "source": [
        "print(classification_report(y_test, y_pred_LR))"
      ]
    },
    {
      "cell_type": "code",
      "execution_count": 39,
      "id": "8c3db584",
      "metadata": {
        "colab": {
          "base_uri": "https://localhost:8080/"
        },
        "id": "8c3db584",
        "outputId": "f5c18ab8-8102-411c-803f-a2bce8c29b3b"
      },
      "outputs": [
        {
          "name": "stdout",
          "output_type": "stream",
          "text": [
            " Accuracy Score :  99.92 %\n",
            "\n",
            " Precision Score :  86.10 %\n",
            "\n",
            " Recall Score :  40.70 %\n",
            "\n",
            " F1 Score :  55.27 %\n",
            "\n",
            " AUC_ROC :  70.34 %\n",
            "\n"
          ]
        }
      ],
      "source": [
        "# Accuracy = (TP + TN) / (TP + TN + FP + FN)\n",
        "Accuracy_LR = accuracy_score(y_test, y_pred_LR)\n",
        "print(f' Accuracy Score : {Accuracy_LR * 100 : .2f} %\\n')\n",
        "\n",
        "\n",
        "# Precision = TP / (TP + FP)\n",
        "Precision_LR = precision_score(y_test, y_pred_LR)\n",
        "print(f' Precision Score : {Precision_LR * 100 : .2f} %\\n')\n",
        "\n",
        "\n",
        "# Recall = TP / (TP + FN)\n",
        "Recall_LR = recall_score(y_test, y_pred_LR)\n",
        "print(f' Recall Score : {Recall_LR * 100 : .2f} %\\n')\n",
        "\n",
        "\n",
        "# F1 Score = 2 × ((Precision * Recall) / (Precision + Recall))\n",
        "F1_Score_LR = f1_score(y_test, y_pred_LR)\n",
        "print(f' F1 Score : {F1_Score_LR * 100 : .2f} %\\n')\n",
        "\n",
        "\n",
        "ROC_AUC_LR = roc_auc_score(y_test, y_pred_LR)\n",
        "print(f' AUC_ROC : {ROC_AUC_LR * 100 : .2f} %\\n')"
      ]
    },
    {
      "cell_type": "code",
      "execution_count": 40,
      "id": "d9e4a521",
      "metadata": {
        "colab": {
          "base_uri": "https://localhost:8080/",
          "height": 430
        },
        "id": "d9e4a521",
        "outputId": "9dcd6f15-e56e-4ae9-d510-16d0a4b59916"
      },
      "outputs": [
        {
          "data": {
            "image/png": "[encoded data removed]",
            "text/plain": [
              "<Figure size 700x500 with 1 Axes>"
            ]
          },
          "metadata": {},
          "output_type": "display_data"
        }
      ],
      "source": [
        "Scores = [Accuracy_LR, Precision_LR, Recall_LR, F1_Score_LR, ROC_AUC_LR]\n",
        "Score_Names = ['Accuracy', 'Precision', 'Recall', 'F1 Score', 'AUC-ROC']\n",
        "\n",
        "# Plot\n",
        "plt.figure(figsize=(7, 5))\n",
        "plt.pie(Scores, labels=Score_Names, autopct='%1.2f%%', startangle=140)\n",
        "plt.axis('equal')\n",
        "plt.show()"
      ]
    },
    {
      "cell_type": "markdown",
      "id": "395ac323",
      "metadata": {
        "id": "395ac323"
      },
      "source": [
        "# Applying \"Decision Tree\" Algorithm"
      ]
    },
    {
      "cell_type": "code",
      "execution_count": 41,
      "id": "8d86b582",
      "metadata": {
        "colab": {
          "base_uri": "https://localhost:8080/"
        },
        "id": "8d86b582",
        "outputId": "bd4b136d-b09f-42dd-922a-a947be0167ad"
      },
      "outputs": [
        {
          "name": "stdout",
          "output_type": "stream",
          "text": [
            "Training accuracy: 100.00 %\n",
            "Testing accuracy: 99.97 %\n"
          ]
        }
      ],
      "source": [
        "Model_DT = DecisionTreeClassifier()\n",
        "Model_DT.fit(X_train_scaled, y_train)\n",
        "y_pred_DT = Model_DT.predict(X_test_scaled)\n",
        "\n",
        "# Quick evaluation\n",
        "Train_Accuracy = Model_DT.score(X_train_scaled, y_train)\n",
        "Test_Accuracy = Model_DT.score(X_test_scaled, y_test)\n",
        "print(f'Training accuracy: {Train_Accuracy*100:.2f} %')\n",
        "print(f'Testing accuracy: {Test_Accuracy*100:.2f} %')"
      ]
    },
    {
      "cell_type": "markdown",
      "id": "1fc1ba48",
      "metadata": {
        "id": "1fc1ba48"
      },
      "source": [
        "# The Evaluation"
      ]
    },
    {
      "cell_type": "code",
      "execution_count": 42,
      "id": "0137512a",
      "metadata": {
        "colab": {
          "base_uri": "https://localhost:8080/",
          "height": 472
        },
        "id": "0137512a",
        "outputId": "bc081ea1-49bf-4d27-c7b3-ee9ecceab25b"
      },
      "outputs": [
        {
          "data": {
            "image/png": "[encoded data removed]",
            "text/plain": [
              "<Figure size 640x480 with 2 Axes>"
            ]
          },
          "metadata": {},
          "output_type": "display_data"
        }
      ],
      "source": [
        "# Confusion Matrix\n",
        "\n",
        "CM = confusion_matrix(y_true=y_test, y_pred=y_pred_DT)\n",
        "ConfusionMatrixDisplay(CM, display_labels=data['isFraud'].unique()).plot()\n",
        "plt.title('Confusion Matrix Without Normalization')\n",
        "plt.show()"
      ]
    },
    {
      "cell_type": "code",
      "execution_count": 43,
      "id": "0972b5cc",
      "metadata": {
        "colab": {
          "base_uri": "https://localhost:8080/"
        },
        "id": "0972b5cc",
        "outputId": "172c9a9f-2753-4e68-f677-7a7ccce41e8b"
      },
      "outputs": [
        {
          "name": "stdout",
          "output_type": "stream",
          "text": [
            "              precision    recall  f1-score   support\n",
            "\n",
            "           0       1.00      1.00      1.00   1906351\n",
            "           1       0.90      0.89      0.89      2435\n",
            "\n",
            "    accuracy                           1.00   1908786\n",
            "   macro avg       0.95      0.95      0.95   1908786\n",
            "weighted avg       1.00      1.00      1.00   1908786\n",
            "\n"
          ]
        }
      ],
      "source": [
        "print(classification_report(y_test, y_pred_DT))"
      ]
    },
    {
      "cell_type": "code",
      "execution_count": 57,
      "id": "51546946",
      "metadata": {
        "colab": {
          "base_uri": "https://localhost:8080/"
        },
        "id": "51546946",
        "outputId": "e679b041-176f-4d01-b8d4-2a9c1540998d"
      },
      "outputs": [
        {
          "name": "stdout",
          "output_type": "stream",
          "text": [
            " Accuracy Score :  99.97 %\n",
            "\n",
            " Precision Score :  89.85 %\n",
            "\n",
            " Recall Score :  89.08 %\n",
            "\n",
            " F1 Score :  89.46 %\n",
            "\n",
            " AUC_ROC :  94.53 %\n",
            "\n"
          ]
        }
      ],
      "source": [
        "# Accuracy = (TP + TN) / (TP + TN + FP + FN)\n",
        "Accuracy_DT = accuracy_score(y_test, y_pred_DT)\n",
        "print(f' Accuracy Score : {Accuracy_DT * 100 : .2f} %\\n')\n",
        "\n",
        "\n",
        "# Precision = TP / (TP + FP)\n",
        "Precision_DT = precision_score(y_test, y_pred_DT)\n",
        "print(f' Precision Score : {Precision_DT * 100 : .2f} %\\n')\n",
        "\n",
        "\n",
        "# Recall = TP / (TP + FN)\n",
        "Recall_DT = recall_score(y_test, y_pred_DT)\n",
        "print(f' Recall Score : {Recall_DT * 100 : .2f} %\\n')\n",
        "\n",
        "\n",
        "# F1 Score = 2 × ((Precision * Recall) / (Precision + Recall))\n",
        "F1_Score_DT = f1_score(y_test, y_pred_DT)\n",
        "print(f' F1 Score : {F1_Score_DT * 100 : .2f} %\\n')\n",
        "\n",
        "\n",
        "ROC_AUC_DT = roc_auc_score(y_test, y_pred_DT)\n",
        "print(f' AUC_ROC : {ROC_AUC_DT * 100 : .2f} %\\n')"
      ]
    },
    {
      "cell_type": "code",
      "execution_count": 45,
      "id": "836a89c9",
      "metadata": {
        "colab": {
          "base_uri": "https://localhost:8080/",
          "height": 430
        },
        "id": "836a89c9",
        "outputId": "1f100fc9-779c-47c7-f541-e83d8bd6da83"
      },
      "outputs": [
        {
          "data": {
            "image/png": "[encoded data removed]",
            "text/plain": [
              "<Figure size 700x500 with 1 Axes>"
            ]
          },
          "metadata": {},
          "output_type": "display_data"
        }
      ],
      "source": [
        "Scores = [Accuracy_DT, Precision_DT, Recall_DT, F1_Score_DT, ROC_AUC_DT]\n",
        "Score_Names = ['Accuracy', 'Precision', 'Recall', 'F1 Score', 'AUC-ROC']\n",
        "\n",
        "# Plot\n",
        "plt.figure(figsize=(7, 5))\n",
        "plt.pie(Scores, labels=Score_Names, autopct='%1.2f%%', startangle=140)\n",
        "plt.axis('equal')\n",
        "plt.show()"
      ]
    },
    {
      "cell_type": "markdown",
      "id": "f39db3f6",
      "metadata": {
        "id": "f39db3f6"
      },
      "source": [
        "# Applying \"Naive Bayes\" Algorithm"
      ]
    },
    {
      "cell_type": "code",
      "execution_count": 46,
      "id": "9cd9f143",
      "metadata": {
        "colab": {
          "base_uri": "https://localhost:8080/"
        },
        "id": "9cd9f143",
        "outputId": "a25c52d2-3730-4976-b327-82ce4346978b"
      },
      "outputs": [
        {
          "name": "stdout",
          "output_type": "stream",
          "text": [
            "Training accuracy: 99.17 %\n",
            "Testing accuracy: 99.17 %\n"
          ]
        }
      ],
      "source": [
        "Model_NB = GaussianNB()\n",
        "Model_NB.fit(X_train_scaled, y_train)\n",
        "y_pred_NB = Model_NB.predict(X_test_scaled)\n",
        "\n",
        "# Quick evaluation\n",
        "Train_Accuracy = Model_NB.score(X_train_scaled, y_train)\n",
        "Test_Accuracy = Model_NB.score(X_test_scaled, y_test)\n",
        "print(f'Training accuracy: {Train_Accuracy*100:.2f} %')\n",
        "print(f'Testing accuracy: {Test_Accuracy*100:.2f} %')"
      ]
    },
    {
      "cell_type": "markdown",
      "id": "f27b841a",
      "metadata": {
        "id": "f27b841a"
      },
      "source": [
        "# The Evaluation"
      ]
    },
    {
      "cell_type": "code",
      "execution_count": 47,
      "id": "196be301",
      "metadata": {
        "colab": {
          "base_uri": "https://localhost:8080/",
          "height": 472
        },
        "id": "196be301",
        "outputId": "12f429cc-23bf-4e4d-d4da-354d6dc3e37d"
      },
      "outputs": [
        {
          "data": {
            "image/png": "[encoded data removed]",
            "text/plain": [
              "<Figure size 640x480 with 2 Axes>"
            ]
          },
          "metadata": {},
          "output_type": "display_data"
        }
      ],
      "source": [
        "# Confusion Matrix\n",
        "\n",
        "CM = confusion_matrix(y_true=y_test, y_pred=y_pred_NB)\n",
        "ConfusionMatrixDisplay(CM, display_labels=data['isFraud'].unique()).plot()\n",
        "plt.title('Confusion Matrix Without Normalization')\n",
        "plt.show()"
      ]
    },
    {
      "cell_type": "code",
      "execution_count": 48,
      "id": "4a48b527",
      "metadata": {
        "colab": {
          "base_uri": "https://localhost:8080/"
        },
        "id": "4a48b527",
        "outputId": "945a9574-303a-45df-939e-c8a71d6a917e"
      },
      "outputs": [
        {
          "name": "stdout",
          "output_type": "stream",
          "text": [
            "              precision    recall  f1-score   support\n",
            "\n",
            "           0       1.00      0.99      1.00   1906351\n",
            "           1       0.03      0.16      0.05      2435\n",
            "\n",
            "    accuracy                           0.99   1908786\n",
            "   macro avg       0.51      0.58      0.52   1908786\n",
            "weighted avg       1.00      0.99      0.99   1908786\n",
            "\n"
          ]
        }
      ],
      "source": [
        "print(classification_report(y_test, y_pred_NB))"
      ]
    },
    {
      "cell_type": "code",
      "execution_count": 49,
      "id": "75509c4c",
      "metadata": {
        "colab": {
          "base_uri": "https://localhost:8080/"
        },
        "id": "75509c4c",
        "outputId": "af9f3e4f-84ed-45c3-ba7b-3d5bd208fa67"
      },
      "outputs": [
        {
          "name": "stdout",
          "output_type": "stream",
          "text": [
            " Accuracy Score :  99.17 %\n",
            "\n",
            " Precision Score :  2.77 %\n",
            "\n",
            " Recall Score :  16.18 %\n",
            "\n",
            " F1 Score :  4.73 %\n",
            "\n",
            " AUC_ROC :  57.73 %\n",
            "\n"
          ]
        }
      ],
      "source": [
        "# Accuracy = (TP + TN) / (TP + TN + FP + FN)\n",
        "Accuracy_NB = accuracy_score(y_test, y_pred_NB)\n",
        "print(f' Accuracy Score : {Accuracy_NB * 100 : .2f} %\\n')\n",
        "\n",
        "\n",
        "# Precision = TP / (TP + FP)\n",
        "Precision_NB = precision_score(y_test, y_pred_NB)\n",
        "print(f' Precision Score : {Precision_NB * 100 : .2f} %\\n')\n",
        "\n",
        "\n",
        "# Recall = TP / (TP + FN)\n",
        "Recall_NB = recall_score(y_test, y_pred_NB)\n",
        "print(f' Recall Score : {Recall_NB * 100 : .2f} %\\n')\n",
        "\n",
        "\n",
        "# F1 Score = 2 × ((Precision * Recall) / (Precision + Recall))\n",
        "F1_Score_NB = f1_score(y_test, y_pred_NB)\n",
        "print(f' F1 Score : {F1_Score_NB * 100 : .2f} %\\n')\n",
        "\n",
        "\n",
        "ROC_AUC_NB = roc_auc_score(y_test, y_pred_NB)\n",
        "print(f' AUC_ROC : {ROC_AUC_NB * 100 : .2f} %\\n')"
      ]
    },
    {
      "cell_type": "code",
      "execution_count": 50,
      "id": "ebbf7223",
      "metadata": {
        "colab": {
          "base_uri": "https://localhost:8080/",
          "height": 426
        },
        "id": "ebbf7223",
        "outputId": "42b328a8-bdd3-4093-860a-66b72ebd4219"
      },
      "outputs": [
        {
          "data": {
            "image/png": "[encoded data removed]",
            "text/plain": [
              "<Figure size 700x500 with 1 Axes>"
            ]
          },
          "metadata": {},
          "output_type": "display_data"
        }
      ],
      "source": [
        "Scores = [Accuracy_NB, Precision_NB, Recall_NB, F1_Score_NB, ROC_AUC_NB]\n",
        "Score_Names = ['Accuracy', 'Precision', 'Recall', 'F1 Score', 'AUC-ROC']\n",
        "\n",
        "# Plot\n",
        "plt.figure(figsize=(7, 5))\n",
        "plt.pie(Scores, labels=Score_Names, autopct='%1.2f%%', startangle=140)\n",
        "plt.axis('equal')\n",
        "plt.show()"
      ]
    },
    {
      "cell_type": "code",
      "execution_count": 51,
      "id": "ad738325",
      "metadata": {
        "colab": {
          "base_uri": "https://localhost:8080/",
          "height": 143
        },
        "id": "ad738325",
        "outputId": "77176b52-7a52-4581-f887-2b363fb1c48a"
      },
      "outputs": [
        {
          "data": {
            "text/html": [
              "<div>\n",
              "<style scoped>\n",
              "    .dataframe tbody tr th:only-of-type {\n",
              "        vertical-align: middle;\n",
              "    }\n",
              "\n",
              "    .dataframe tbody tr th {\n",
              "        vertical-align: top;\n",
              "    }\n",
              "\n",
              "    .dataframe thead th {\n",
              "        text-align: right;\n",
              "    }\n",
              "</style>\n",
              "<table border=\"1\" class=\"dataframe\">\n",
              "  <thead>\n",
              "    <tr style=\"text-align: right;\">\n",
              "      <th></th>\n",
              "      <th>Model</th>\n",
              "      <th>Accuracy</th>\n",
              "    </tr>\n",
              "  </thead>\n",
              "  <tbody>\n",
              "    <tr>\n",
              "      <th>0</th>\n",
              "      <td>Logistic Regression</td>\n",
              "      <td>99.915968</td>\n",
              "    </tr>\n",
              "    <tr>\n",
              "      <th>1</th>\n",
              "      <td>Decision Tree</td>\n",
              "      <td>99.973229</td>\n",
              "    </tr>\n",
              "    <tr>\n",
              "      <th>2</th>\n",
              "      <td>Naive Bayes</td>\n",
              "      <td>99.169367</td>\n",
              "    </tr>\n",
              "  </tbody>\n",
              "</table>\n",
              "</div>"
            ],
            "text/plain": [
              "                 Model   Accuracy\n",
              "0  Logistic Regression  99.915968\n",
              "1        Decision Tree  99.973229\n",
              "2          Naive Bayes  99.169367"
            ]
          },
          "execution_count": 51,
          "metadata": {},
          "output_type": "execute_result"
        }
      ],
      "source": [
        "evaluation = pd.DataFrame({'Model': ['Logistic Regression','Decision Tree', 'Naive Bayes'],\n",
        "                           'Accuracy': [(Accuracy_LR*100), (Accuracy_DT*100), (Accuracy_NB*100)]})\n",
        "\n",
        "evaluation"
      ]
    },
    {
      "cell_type": "markdown",
      "id": "7XSpsGrt-yV9",
      "metadata": {
        "id": "7XSpsGrt-yV9"
      },
      "source": [
        "#streamlit\n"
      ]
    },
    {
      "cell_type": "code",
      "execution_count": 52,
      "id": "hdjdNjcYM6ub",
      "metadata": {
        "id": "hdjdNjcYM6ub"
      },
      "outputs": [],
      "source": [
        "import pickle\n",
        "Model_DTT = DecisionTreeClassifier()\n",
        "Model_DTT.fit(X_train_scaled, y_train)\n",
        "# y_pred_DT = Model_DT.predict(X_test_scaled)\n",
        "with open('decision_tree_model.pickle', 'wb') as model_file:\n",
        "      model = pickle.dump(Model_DTT, model_file)\n",
        "Model_LRR = LogisticRegression()\n",
        "Model_LRR.fit(X_train_scaled, y_train)\n",
        "with open('logistic_regression_model.pickle', 'wb') as model_file:\n",
        "      model = pickle.dump(Model_LRR, model_file)\n",
        "Model_NBB = GaussianNB()\n",
        "Model_NBB.fit(X_train_scaled, y_train)\n",
        "with open('naive_bayes_model.pickle', 'wb') as model_file:\n",
        "      model = pickle.dump(Model_NBB, model_file)"
      ]
    },
    {
      "cell_type": "code",
      "execution_count": 53,
      "id": "5H_0_Iw8-z4C",
      "metadata": {
        "colab": {
          "base_uri": "https://localhost:8080/"
        },
        "id": "5H_0_Iw8-z4C",
        "outputId": "9883c621-d7dd-472d-bd12-5e90e1253ef4"
      },
      "outputs": [],
      "source": [
        "# ! pip install streamlit -q"
      ]
    },
    {
      "cell_type": "code",
      "execution_count": 54,
      "id": "OcCc0HBWHnr7",
      "metadata": {
        "colab": {
          "base_uri": "https://localhost:8080/"
        },
        "id": "OcCc0HBWHnr7",
        "outputId": "cfb1e257-b942-4aa4-a1f8-7847a63463ec"
      },
      "outputs": [],
      "source": [
        "# %%writefile app.py"
      ]
    },
    {
      "cell_type": "code",
      "execution_count": 55,
      "id": "cfPHmMep-6y3",
      "metadata": {
        "colab": {
          "base_uri": "https://localhost:8080/"
        },
        "id": "cfPHmMep-6y3",
        "outputId": "fa665e74-0799-4ed7-c56f-1c132e28f28a"
      },
      "outputs": [],
      "source": [
        "# !wget -q -O - ipv4.icanhazip.com"
      ]
    },
    {
      "cell_type": "code",
      "execution_count": 56,
      "id": "bH5jTL3M-702",
      "metadata": {
        "colab": {
          "background_save": true,
          "base_uri": "https://localhost:8080/"
        },
        "id": "bH5jTL3M-702",
        "outputId": "8fd8e0a5-29d7-4689-81da-4768270f6fd8"
      },
      "outputs": [],
      "source": [
        "# ! streamlit run app.py & npx localtunnel --port 8501"
      ]
    }
  ],
  "metadata": {
    "colab": {
      "provenance": []
    },
    "kaggle": {
      "accelerator": "none",
      "dataSources": [
        {
          "datasetId": 2093649,
          "sourceId": 3478314,
          "sourceType": "datasetVersion"
        }
      ],
      "dockerImageVersionId": 30698,
      "isGpuEnabled": false,
      "isInternetEnabled": true,
      "language": "python",
      "sourceType": "notebook"
    },
    "kernelspec": {
      "display_name": "Python 3",
      "language": "python",
      "name": "python3"
    },
    "language_info": {
      "codemirror_mode": {
        "name": "ipython",
        "version": 3
      },
      "file_extension": ".py",
      "mimetype": "text/x-python",
      "name": "python",
      "nbconvert_exporter": "python",
      "pygments_lexer": "ipython3",
      "version": "3.11.8"
    },
    "papermill": {
      "default_parameters": {},
      "duration": 175.41539,
      "end_time": "2024-04-29T22:04:00.618597",
      "environment_variables": {},
      "exception": null,
      "input_path": "__notebook__.ipynb",
      "output_path": "__notebook__.ipynb",
      "parameters": {},
      "start_time": "2024-04-29T22:01:05.203207",
      "version": "2.5.0"
    }
  },
  "nbformat": 4,
  "nbformat_minor": 5
}
